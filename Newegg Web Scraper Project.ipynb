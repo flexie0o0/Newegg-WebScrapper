{
 "cells": [
  {
   "cell_type": "code",
   "execution_count": 1,
   "id": "9e0fd492-9138-48e0-be5c-6c859fb52b5a",
   "metadata": {},
   "outputs": [],
   "source": [
    "#import libraries \n",
    "\n",
    "from bs4 import BeautifulSoup\n",
    "import requests\n",
    "import smtplib\n",
    "import time\n",
    "import datetime"
   ]
  },
  {
   "cell_type": "code",
   "execution_count": 2,
   "id": "644daa30-7f3a-43b9-a38e-a8aea533e1a3",
   "metadata": {},
   "outputs": [
    {
     "name": "stdout",
     "output_type": "stream",
     "text": [
      "The searched item is Sony a7R III Mirrorless Camera Body Only ILCE7RM3/B.\n",
      "And its price is $1,714.95.\n"
     ]
    }
   ],
   "source": [
    "#Connect to  the website\n",
    "\n",
    "URL = 'https://www.newegg.com/p/0UP-000C-001X9'\n",
    "\n",
    "headers = {\"User-Agent\": \"Mozilla/5.0 (Windows NT 10.0; Win64; x64; rv:128.0) Gecko/20100101 Firefox/128.0\", \"Accept-Encoding\":\"gzip, deflate\", \"Accept\":\"text/html,application/xhtml+xml,application/xml;q=0.9,*/*;q=0.8\", \"DNT\":\"1\",\"Connection\":\"close\", \"Upgrade-Insecure-Requests\":\"1\"}\n",
    "\n",
    "page = requests.get(URL, headers = headers)\n",
    "\n",
    "soup1 = BeautifulSoup(page.content, \"html.parser\")\n",
    "\n",
    "soup2 = BeautifulSoup(soup1.prettify(), \"html.parser\")\n",
    "\n",
    "title = soup2.find(class_ = 'product-title').get_text().strip()\n",
    "\n",
    "price_element = soup2.find(class_ = 'price-current')\n",
    "price_dollar = price_element.find('strong').get_text().strip()\n",
    "price_cent = price_element.find('sup').get_text().strip()\n",
    "price = f\"${price_dollar}{price_cent}\"\n",
    "\n",
    "\n",
    "print(f\"The searched item is {title}.\")\n",
    "print(f\"And its price is {price}.\")"
   ]
  },
  {
   "cell_type": "code",
   "execution_count": 3,
   "id": "67db3fee-b5a7-4f93-af01-f9f88eb3f1b6",
   "metadata": {},
   "outputs": [
    {
     "name": "stdout",
     "output_type": "stream",
     "text": [
      "2024-07-23\n"
     ]
    }
   ],
   "source": [
    "#Create a timestamp for your output to track when the data was collected\n",
    "\n",
    "import datetime\n",
    "\n",
    "today = datetime.date.today()\n",
    "print(today)"
   ]
  },
  {
   "cell_type": "code",
   "execution_count": 4,
   "id": "2a9e8bf5-13f0-4ee6-8a15-2de6da5cb094",
   "metadata": {},
   "outputs": [],
   "source": [
    "#Create a .CSV and write headers and data into the file\n",
    "\n",
    "import csv\n",
    "header = ['Title', 'Price', 'Date']\n",
    "data = [title, price, today]\n",
    "\n",
    "with open ('NeweggWebScrapper.csv', 'w', newline = '', encoding= 'UTF8') as f:\n",
    "    writer = csv.writer(f)\n",
    "    writer.writerow(header)\n",
    "    writer.writerow(data)"
   ]
  },
  {
   "cell_type": "code",
   "execution_count": 13,
   "id": "a47c6e8d-6c1f-4a6f-9f97-b64558ed188d",
   "metadata": {},
   "outputs": [
    {
     "name": "stdout",
     "output_type": "stream",
     "text": [
      "                                               Title      Price        Date\n",
      "0  Sony a7R III Mirrorless Camera Body Only ILCE7...  $1,714.95  2024-07-23\n",
      "1  Sony a7R III Mirrorless Camera Body Only ILCE7...  $1,714.95  2024-07-23\n",
      "2  Sony a7R III Mirrorless Camera Body Only ILCE7...  $1,714.95  2024-07-23\n",
      "3  Sony a7R III Mirrorless Camera Body Only ILCE7...  $1,714.95  2024-07-23\n",
      "4  Sony a7R III Mirrorless Camera Body Only ILCE7...  $1,714.95  2024-07-23\n"
     ]
    }
   ],
   "source": [
    "import pandas as pd\n",
    "\n",
    "df = pd.read_csv(r'F:\\pythonenaa\\Amazon-Webscraping\\NeweggWebScrapper.csv')\n",
    "print(df)"
   ]
  },
  {
   "cell_type": "code",
   "execution_count": 12,
   "id": "f93485c3-269d-4807-89ba-ef95d3b751b5",
   "metadata": {},
   "outputs": [],
   "source": [
    "#Appending data to the csv\n",
    "\n",
    "with open ('NeweggWebScrapper.csv', 'a+', newline = '', encoding= 'UTF8') as f:\n",
    "    writer = csv.writer(f)\n",
    "    writer.writerow(data)"
   ]
  },
  {
   "cell_type": "code",
   "execution_count": 14,
   "id": "a74fa963-dd76-4932-990e-585c00de625d",
   "metadata": {},
   "outputs": [],
   "source": [
    "#Combining the above code into one function\n",
    "\n",
    "def check_price():\n",
    "    URL = 'https://www.newegg.com/p/0UP-000C-001X9'\n",
    "\n",
    "    headers = {\"User-Agent\": \"Mozilla/5.0 (Windows NT 10.0; Win64; x64; rv:128.0) Gecko/20100101 Firefox/128.0\", \"Accept-Encoding\":\"gzip, deflate\", \"Accept\":\"text/html,application/xhtml+xml,application/xml;q=0.9,*/*;q=0.8\", \"DNT\":\"1\",\"Connection\":\"close\", \"Upgrade-Insecure-Requests\":\"1\"}\n",
    "    \n",
    "    page = requests.get(URL, headers = headers)\n",
    "    \n",
    "    soup1 = BeautifulSoup(page.content, \"html.parser\")\n",
    "    \n",
    "    soup2 = BeautifulSoup(soup1.prettify(), \"html.parser\")\n",
    "    \n",
    "    title = soup2.find(class_ = 'product-title').get_text().strip()\n",
    "    \n",
    "    price_element = soup2.find(class_ = 'price-current')\n",
    "    price_dollar = price_element.find('strong').get_text().strip()\n",
    "    price_cent = price_element.find('sup').get_text().strip()\n",
    "    price = f\"${price_dollar}{price_cent}\"\n",
    "    \n",
    "    import datetime\n",
    "    today = datetime.date.today()\n",
    "    print(today)\n",
    "\n",
    "    import csv\n",
    "    header = ['Title', 'Price', 'Date']\n",
    "    data = [title, price, today]\n",
    "\n",
    "    with open ('NeweggWebScrapper.csv', 'a+', newline = '', encoding= 'UTF8') as f:\n",
    "        writer = csv.writer(f)\n",
    "        writer.writerow(data)\n",
    "\n"
   ]
  },
  {
   "cell_type": "code",
   "execution_count": null,
   "id": "404649ba-5d95-4d76-806e-01a7abb77a04",
   "metadata": {},
   "outputs": [
    {
     "name": "stdout",
     "output_type": "stream",
     "text": [
      "2024-07-23\n",
      "2024-07-23\n",
      "2024-07-23\n"
     ]
    }
   ],
   "source": [
    "#Runs check_price after a set time and inputs data to the CSV\n",
    "\n",
    "while(True):\n",
    "    check_price()\n",
    "    time.sleep(86400)"
   ]
  },
  {
   "cell_type": "code",
   "execution_count": 1,
   "id": "00658392-6c2d-4ee8-8a0a-3600c4717f26",
   "metadata": {},
   "outputs": [
    {
     "name": "stdout",
     "output_type": "stream",
     "text": [
      "                                               Title      Price        Date\n",
      "0  Sony a7R III Mirrorless Camera Body Only ILCE7...  $1,714.95  2024-07-23\n",
      "1  Sony a7R III Mirrorless Camera Body Only ILCE7...  $1,714.95  2024-07-23\n",
      "2  Sony a7R III Mirrorless Camera Body Only ILCE7...  $1,714.95  2024-07-23\n",
      "3  Sony a7R III Mirrorless Camera Body Only ILCE7...  $1,714.95  2024-07-23\n",
      "4  Sony a7R III Mirrorless Camera Body Only ILCE7...  $1,714.95  2024-07-23\n",
      "5  Sony a7R III Mirrorless Camera Body Only ILCE7...  $1,714.95  2024-07-23\n",
      "6  Sony a7R III Mirrorless Camera Body Only ILCE7...  $1,714.95  2024-07-23\n",
      "7  Sony a7R III Mirrorless Camera Body Only ILCE7...  $1,714.95  2024-07-23\n"
     ]
    }
   ],
   "source": [
    "import pandas as pd\n",
    "\n",
    "df = pd.read_csv(r'F:\\pythonenaa\\Amazon-Webscraping\\NeweggWebScrapper.csv')\n",
    "print(df)"
   ]
  }
 ],
 "metadata": {
  "kernelspec": {
   "display_name": "Python 3 (ipykernel)",
   "language": "python",
   "name": "python3"
  },
  "language_info": {
   "codemirror_mode": {
    "name": "ipython",
    "version": 3
   },
   "file_extension": ".py",
   "mimetype": "text/x-python",
   "name": "python",
   "nbconvert_exporter": "python",
   "pygments_lexer": "ipython3",
   "version": "3.12.1"
  }
 },
 "nbformat": 4,
 "nbformat_minor": 5
}
